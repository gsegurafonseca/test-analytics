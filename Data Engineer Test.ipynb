{
 "cells": [
  {
   "cell_type": "code",
   "execution_count": 1,
   "metadata": {
    "scrolled": true
   },
   "outputs": [
    {
     "name": "stdout",
     "output_type": "stream",
     "text": [
      "Requirement already up-to-date: google-cloud-bigquery[pandas] in c:\\users\\lenovo\\anaconda3\\lib\\site-packages (1.25.0)\n",
      "Requirement already satisfied, skipping upgrade: google-api-core<2.0dev,>=1.15.0 in c:\\users\\lenovo\\anaconda3\\lib\\site-packages (from google-cloud-bigquery[pandas]) (1.21.0)\n",
      "Requirement already satisfied, skipping upgrade: six<2.0.0dev,>=1.13.0 in c:\\users\\lenovo\\anaconda3\\lib\\site-packages (from google-cloud-bigquery[pandas]) (1.14.0)\n",
      "Requirement already satisfied, skipping upgrade: google-resumable-media<0.6dev,>=0.5.0 in c:\\users\\lenovo\\anaconda3\\lib\\site-packages (from google-cloud-bigquery[pandas]) (0.5.1)\n",
      "Requirement already satisfied, skipping upgrade: protobuf>=3.6.0 in c:\\users\\lenovo\\anaconda3\\lib\\site-packages (from google-cloud-bigquery[pandas]) (3.12.2)\n",
      "Requirement already satisfied, skipping upgrade: google-auth<2.0dev,>=1.9.0 in c:\\users\\lenovo\\anaconda3\\lib\\site-packages (from google-cloud-bigquery[pandas]) (1.18.0)\n",
      "Requirement already satisfied, skipping upgrade: google-cloud-core<2.0dev,>=1.1.0 in c:\\users\\lenovo\\anaconda3\\lib\\site-packages (from google-cloud-bigquery[pandas]) (1.3.0)\n",
      "Requirement already satisfied, skipping upgrade: pandas>=0.17.1; extra == \"pandas\" in c:\\users\\lenovo\\anaconda3\\lib\\site-packages (from google-cloud-bigquery[pandas]) (1.0.1)\n",
      "Requirement already satisfied, skipping upgrade: setuptools>=34.0.0 in c:\\users\\lenovo\\anaconda3\\lib\\site-packages (from google-api-core<2.0dev,>=1.15.0->google-cloud-bigquery[pandas]) (45.2.0.post20200210)\n",
      "Requirement already satisfied, skipping upgrade: pytz in c:\\users\\lenovo\\anaconda3\\lib\\site-packages (from google-api-core<2.0dev,>=1.15.0->google-cloud-bigquery[pandas]) (2019.3)\n",
      "Requirement already satisfied, skipping upgrade: requests<3.0.0dev,>=2.18.0 in c:\\users\\lenovo\\anaconda3\\lib\\site-packages (from google-api-core<2.0dev,>=1.15.0->google-cloud-bigquery[pandas]) (2.22.0)\n",
      "Requirement already satisfied, skipping upgrade: googleapis-common-protos<2.0dev,>=1.6.0 in c:\\users\\lenovo\\anaconda3\\lib\\site-packages (from google-api-core<2.0dev,>=1.15.0->google-cloud-bigquery[pandas]) (1.52.0)\n",
      "Requirement already satisfied, skipping upgrade: pyasn1-modules>=0.2.1 in c:\\users\\lenovo\\anaconda3\\lib\\site-packages (from google-auth<2.0dev,>=1.9.0->google-cloud-bigquery[pandas]) (0.2.8)\n",
      "Requirement already satisfied, skipping upgrade: cachetools<5.0,>=2.0.0 in c:\\users\\lenovo\\anaconda3\\lib\\site-packages (from google-auth<2.0dev,>=1.9.0->google-cloud-bigquery[pandas]) (4.1.1)\n",
      "Requirement already satisfied, skipping upgrade: rsa<5,>=3.1.4; python_version >= \"3\" in c:\\users\\lenovo\\anaconda3\\lib\\site-packages (from google-auth<2.0dev,>=1.9.0->google-cloud-bigquery[pandas]) (4.6)\n",
      "Requirement already satisfied, skipping upgrade: numpy>=1.13.3 in c:\\users\\lenovo\\anaconda3\\lib\\site-packages (from pandas>=0.17.1; extra == \"pandas\"->google-cloud-bigquery[pandas]) (1.18.1)\n",
      "Requirement already satisfied, skipping upgrade: python-dateutil>=2.6.1 in c:\\users\\lenovo\\anaconda3\\lib\\site-packages (from pandas>=0.17.1; extra == \"pandas\"->google-cloud-bigquery[pandas]) (2.8.1)\n",
      "Requirement already satisfied, skipping upgrade: idna<2.9,>=2.5 in c:\\users\\lenovo\\anaconda3\\lib\\site-packages (from requests<3.0.0dev,>=2.18.0->google-api-core<2.0dev,>=1.15.0->google-cloud-bigquery[pandas]) (2.8)\n",
      "Requirement already satisfied, skipping upgrade: urllib3!=1.25.0,!=1.25.1,<1.26,>=1.21.1 in c:\\users\\lenovo\\anaconda3\\lib\\site-packages (from requests<3.0.0dev,>=2.18.0->google-api-core<2.0dev,>=1.15.0->google-cloud-bigquery[pandas]) (1.25.8)\n",
      "Requirement already satisfied, skipping upgrade: chardet<3.1.0,>=3.0.2 in c:\\users\\lenovo\\anaconda3\\lib\\site-packages (from requests<3.0.0dev,>=2.18.0->google-api-core<2.0dev,>=1.15.0->google-cloud-bigquery[pandas]) (3.0.4)\n",
      "Requirement already satisfied, skipping upgrade: certifi>=2017.4.17 in c:\\users\\lenovo\\anaconda3\\lib\\site-packages (from requests<3.0.0dev,>=2.18.0->google-api-core<2.0dev,>=1.15.0->google-cloud-bigquery[pandas]) (2019.11.28)\n",
      "Requirement already satisfied, skipping upgrade: pyasn1<0.5.0,>=0.4.6 in c:\\users\\lenovo\\anaconda3\\lib\\site-packages (from pyasn1-modules>=0.2.1->google-auth<2.0dev,>=1.9.0->google-cloud-bigquery[pandas]) (0.4.8)\n",
      "Note: you may need to restart the kernel to use updated packages.\n"
     ]
    }
   ],
   "source": [
    "pip install --upgrade google-cloud-bigquery[pandas]"
   ]
  },
  {
   "cell_type": "markdown",
   "metadata": {},
   "source": [
    "# [Data Engineer Test - Analytic Lab Works]\n"
   ]
  },
  {
   "cell_type": "code",
   "execution_count": 2,
   "metadata": {},
   "outputs": [
    {
     "data": {
      "text/plain": [
       "True"
      ]
     },
     "execution_count": 2,
     "metadata": {},
     "output_type": "execute_result"
    }
   ],
   "source": [
    "# Cargar librerias\n",
    "import pandas as pd\n",
    "import os\n",
    "from google.cloud import bigquery\n",
    "from google.oauth2 import service_account\n",
    "from dotenv import load_dotenv\n",
    "from google.cloud import bigquery\n",
    "load_dotenv()\n"
   ]
  },
  {
   "cell_type": "markdown",
   "metadata": {},
   "source": [
    "# Punto 1:\n",
    "Download the dataset from https://www.datos.gov.co/Seguridad-y-Defensa/Homicidios-2018/pz7x-mkbs \n",
    "\n",
    " a.\tUse BigQuery to store and read the data.\n"
   ]
  },
  {
   "cell_type": "code",
   "execution_count": 3,
   "metadata": {},
   "outputs": [],
   "source": [
    "os.environ[\"GOOGLE_APPLICATION_CREDENTIALS\"]=\"./clave/Test-42df6148e13f.json\""
   ]
  },
  {
   "cell_type": "code",
   "execution_count": 4,
   "metadata": {},
   "outputs": [
    {
     "name": "stdout",
     "output_type": "stream",
     "text": [
      "Loaded 4966 rows into tablahom:tabla_homicidios.\n"
     ]
    }
   ],
   "source": [
    "client = bigquery.Client()\n",
    "filename = './Datos/Homicidios_2018.csv'\n",
    "dataset_id = 'tablahom'\n",
    "table_id = 'tabla_homicidios'\n",
    "\n",
    "dataset_ref = client.dataset(dataset_id)\n",
    "table_ref = dataset_ref.table(table_id)\n",
    "job_config = bigquery.LoadJobConfig()\n",
    "job_config.schema = [\n",
    "    bigquery.SchemaField(\"fecha\", \"STRING\"),\n",
    "    bigquery.SchemaField(\"departamento\", \"STRING\"),\n",
    "    bigquery.SchemaField(\"municipio\", \"STRING\"),\n",
    "    bigquery.SchemaField(\"dia\", \"STRING\"),\n",
    "    bigquery.SchemaField(\"hora\", \"STRING\"),\n",
    "    bigquery.SchemaField(\"barrio\", \"STRING\"),\n",
    "    bigquery.SchemaField(\"zona\", \"STRING\"),\n",
    "    bigquery.SchemaField(\"clase_de_sitio\", \"STRING\"),\n",
    "    bigquery.SchemaField(\"arma_empleada\", \"STRING\"),\n",
    "    bigquery.SchemaField(\"movil_agresor\", \"STRING\"),\n",
    "    bigquery.SchemaField(\"movil_victima\", \"STRING\"),\n",
    "    bigquery.SchemaField(\"edad\", \"INT64\"),\n",
    "    bigquery.SchemaField(\"sexo\", \"STRING\"),\n",
    "    bigquery.SchemaField(\"estado_civil\", \"STRING\"),\n",
    "    bigquery.SchemaField(\"pais_nacimiento\", \"STRING\"),\n",
    "    bigquery.SchemaField(\"clase_empleado\", \"STRING\"),\n",
    "    bigquery.SchemaField(\"profesion\", \"STRING\"),\n",
    "    bigquery.SchemaField(\"escolaridad\", \"STRING\"),\n",
    "    bigquery.SchemaField(\"codigo_dane\", \"INT64\"),\n",
    "    bigquery.SchemaField(\"cantidad\", \"INT64\"),\n",
    "]\n",
    "job_config.source_format = bigquery.SourceFormat.CSV\n",
    "job_config.skip_leading_rows = 1\n",
    "with open(filename, \"rb\") as source_file:\n",
    "    job = client.load_table_from_file(source_file, table_ref,\n",
    "        location=\"US\", job_config=job_config)\n",
    "\n",
    "job.result()  # Waits for table load to complete.\n",
    "\n",
    "print(\"Loaded {} rows into {}:{}.\".format(job.output_rows, dataset_id, table_id))"
   ]
  },
  {
   "cell_type": "markdown",
   "metadata": {},
   "source": [
    "#### Comentario:\n",
    "Se cargaron los datos en la tabla tabla_homicidios en GCP"
   ]
  },
  {
   "cell_type": "code",
   "execution_count": 6,
   "metadata": {},
   "outputs": [],
   "source": [
    "# Llamamos la tabla\n",
    "client = bigquery.Client()\n",
    "sql = \"\"\"\n",
    "SELECT * \n",
    "FROM `atomic-legacy-282703.tablahom.tabla_homicidios` \n",
    "\"\"\"\n",
    "\n",
    "df = client.query(sql).to_dataframe()"
   ]
  },
  {
   "cell_type": "markdown",
   "metadata": {},
   "source": [
    "# Punto 2:\t\n",
    "What data quality issues do you evidence? How could you solve them? Write some querys in SQL to explore the data in Bigquery."
   ]
  },
  {
   "cell_type": "code",
   "execution_count": 10,
   "metadata": {},
   "outputs": [
    {
     "data": {
      "text/html": [
       "<div>\n",
       "<style scoped>\n",
       "    .dataframe tbody tr th:only-of-type {\n",
       "        vertical-align: middle;\n",
       "    }\n",
       "\n",
       "    .dataframe tbody tr th {\n",
       "        vertical-align: top;\n",
       "    }\n",
       "\n",
       "    .dataframe thead th {\n",
       "        text-align: right;\n",
       "    }\n",
       "</style>\n",
       "<table border=\"1\" class=\"dataframe\">\n",
       "  <thead>\n",
       "    <tr style=\"text-align: right;\">\n",
       "      <th></th>\n",
       "      <th>fecha</th>\n",
       "      <th>departamento</th>\n",
       "      <th>municipio</th>\n",
       "      <th>dia</th>\n",
       "      <th>hora</th>\n",
       "      <th>barrio</th>\n",
       "      <th>zona</th>\n",
       "      <th>clase_de_sitio</th>\n",
       "      <th>arma_empleada</th>\n",
       "      <th>movil_agresor</th>\n",
       "      <th>movil_victima</th>\n",
       "      <th>edad</th>\n",
       "      <th>sexo</th>\n",
       "      <th>estado_civil</th>\n",
       "      <th>pais_nacimiento</th>\n",
       "      <th>clase_empleado</th>\n",
       "      <th>profesion</th>\n",
       "      <th>escolaridad</th>\n",
       "      <th>codigo_dane</th>\n",
       "      <th>cantidad</th>\n",
       "    </tr>\n",
       "  </thead>\n",
       "  <tbody>\n",
       "    <tr>\n",
       "      <th>0</th>\n",
       "      <td>None</td>\n",
       "      <td>None</td>\n",
       "      <td>None</td>\n",
       "      <td>None</td>\n",
       "      <td>None</td>\n",
       "      <td>None</td>\n",
       "      <td>None</td>\n",
       "      <td>None</td>\n",
       "      <td>None</td>\n",
       "      <td>None</td>\n",
       "      <td>None</td>\n",
       "      <td>NaN</td>\n",
       "      <td>None</td>\n",
       "      <td>None</td>\n",
       "      <td>None</td>\n",
       "      <td>None</td>\n",
       "      <td>None</td>\n",
       "      <td>None</td>\n",
       "      <td>NaN</td>\n",
       "      <td>12667</td>\n",
       "    </tr>\n",
       "    <tr>\n",
       "      <th>1</th>\n",
       "      <td>11/02/2018 12:00:00 AM</td>\n",
       "      <td>CASANARE</td>\n",
       "      <td>VILLANUEVA</td>\n",
       "      <td>Domingo</td>\n",
       "      <td>2:00:00</td>\n",
       "      <td>LA COLMENA</td>\n",
       "      <td>RURAL</td>\n",
       "      <td>BILLARES</td>\n",
       "      <td>ARMA DE FUEGO</td>\n",
       "      <td>A PIE</td>\n",
       "      <td>A PIE</td>\n",
       "      <td>13.0</td>\n",
       "      <td>FEMENINO</td>\n",
       "      <td>SOLTERO</td>\n",
       "      <td>COLOMBIA</td>\n",
       "      <td>ESTUDIANTE</td>\n",
       "      <td>-</td>\n",
       "      <td>SECUNDARIA</td>\n",
       "      <td>85440000.0</td>\n",
       "      <td>1</td>\n",
       "    </tr>\n",
       "  </tbody>\n",
       "</table>\n",
       "</div>"
      ],
      "text/plain": [
       "                    fecha departamento   municipio      dia     hora  \\\n",
       "0                    None         None        None     None     None   \n",
       "1  11/02/2018 12:00:00 AM     CASANARE  VILLANUEVA  Domingo  2:00:00   \n",
       "\n",
       "       barrio   zona clase_de_sitio  arma_empleada movil_agresor  \\\n",
       "0        None   None           None           None          None   \n",
       "1  LA COLMENA  RURAL       BILLARES  ARMA DE FUEGO         A PIE   \n",
       "\n",
       "  movil_victima  edad      sexo estado_civil pais_nacimiento clase_empleado  \\\n",
       "0          None   NaN      None         None            None           None   \n",
       "1         A PIE  13.0  FEMENINO      SOLTERO        COLOMBIA     ESTUDIANTE   \n",
       "\n",
       "  profesion escolaridad  codigo_dane  cantidad  \n",
       "0      None        None          NaN     12667  \n",
       "1         -  SECUNDARIA   85440000.0         1  "
      ]
     },
     "execution_count": 10,
     "metadata": {},
     "output_type": "execute_result"
    }
   ],
   "source": [
    "df[:2]"
   ]
  },
  {
   "cell_type": "code",
   "execution_count": 14,
   "metadata": {},
   "outputs": [],
   "source": [
    "sql = \"\"\"\n",
    "DELETE \n",
    "FROM `atomic-legacy-282703.tablahom.tabla_homicidios`\n",
    "WHERE FECHA IS NULL AND DEPARTAMENTO IS NULL AND MUNICIPIO IS NULL \n",
    "\"\"\"\n",
    "df = client.query(sql).to_dataframe()"
   ]
  },
  {
   "cell_type": "markdown",
   "metadata": {},
   "source": [
    "#### Comentario: \n",
    "Eliminar el primer registro dado que no es representativo de la información "
   ]
  },
  {
   "cell_type": "code",
   "execution_count": 15,
   "metadata": {
    "scrolled": true
   },
   "outputs": [
    {
     "data": {
      "text/html": [
       "<div>\n",
       "<style scoped>\n",
       "    .dataframe tbody tr th:only-of-type {\n",
       "        vertical-align: middle;\n",
       "    }\n",
       "\n",
       "    .dataframe tbody tr th {\n",
       "        vertical-align: top;\n",
       "    }\n",
       "\n",
       "    .dataframe thead th {\n",
       "        text-align: right;\n",
       "    }\n",
       "</style>\n",
       "<table border=\"1\" class=\"dataframe\">\n",
       "  <thead>\n",
       "    <tr style=\"text-align: right;\">\n",
       "      <th></th>\n",
       "      <th>DEPARTAMENTO</th>\n",
       "      <th>TOTAL_H_DPTO</th>\n",
       "    </tr>\n",
       "  </thead>\n",
       "  <tbody>\n",
       "    <tr>\n",
       "      <th>0</th>\n",
       "      <td>ANTIOQUIA</td>\n",
       "      <td>926</td>\n",
       "    </tr>\n",
       "    <tr>\n",
       "      <th>1</th>\n",
       "      <td>VALLE</td>\n",
       "      <td>889</td>\n",
       "    </tr>\n",
       "    <tr>\n",
       "      <th>2</th>\n",
       "      <td>CUNDINAMARCA</td>\n",
       "      <td>581</td>\n",
       "    </tr>\n",
       "    <tr>\n",
       "      <th>3</th>\n",
       "      <td>CAUCA</td>\n",
       "      <td>282</td>\n",
       "    </tr>\n",
       "    <tr>\n",
       "      <th>4</th>\n",
       "      <td>NARIÑO</td>\n",
       "      <td>263</td>\n",
       "    </tr>\n",
       "    <tr>\n",
       "      <th>5</th>\n",
       "      <td>ATLÁNTICO</td>\n",
       "      <td>215</td>\n",
       "    </tr>\n",
       "    <tr>\n",
       "      <th>6</th>\n",
       "      <td>NORTE DE SANTANDER</td>\n",
       "      <td>181</td>\n",
       "    </tr>\n",
       "    <tr>\n",
       "      <th>7</th>\n",
       "      <td>BOLÍVAR</td>\n",
       "      <td>156</td>\n",
       "    </tr>\n",
       "    <tr>\n",
       "      <th>8</th>\n",
       "      <td>CÓRDOBA</td>\n",
       "      <td>139</td>\n",
       "    </tr>\n",
       "    <tr>\n",
       "      <th>9</th>\n",
       "      <td>META</td>\n",
       "      <td>116</td>\n",
       "    </tr>\n",
       "  </tbody>\n",
       "</table>\n",
       "</div>"
      ],
      "text/plain": [
       "         DEPARTAMENTO  TOTAL_H_DPTO\n",
       "0           ANTIOQUIA           926\n",
       "1               VALLE           889\n",
       "2        CUNDINAMARCA           581\n",
       "3               CAUCA           282\n",
       "4              NARIÑO           263\n",
       "5           ATLÁNTICO           215\n",
       "6  NORTE DE SANTANDER           181\n",
       "7             BOLÍVAR           156\n",
       "8             CÓRDOBA           139\n",
       "9                META           116"
      ]
     },
     "execution_count": 15,
     "metadata": {},
     "output_type": "execute_result"
    }
   ],
   "source": [
    "# Top de 10 de departamentos - homicidios\n",
    "sql = \"\"\"\n",
    "SELECT DEPARTAMENTO, COUNT(*) AS TOTAL_H_DPTO\n",
    "FROM `atomic-legacy-282703.tablahom.tabla_homicidios`\n",
    "GROUP BY 1\n",
    "ORDER BY 2 DESC limit 10\n",
    "\"\"\"\n",
    "\n",
    "consulta1 = client.query(sql).to_dataframe()\n",
    "consulta1"
   ]
  },
  {
   "cell_type": "markdown",
   "metadata": {},
   "source": [
    "#### Comentario: \n",
    "Se observa que los departamentos de Antioquia, Valle y Cundinamarca son los que presentan mayor número de homicidios"
   ]
  },
  {
   "cell_type": "code",
   "execution_count": 17,
   "metadata": {},
   "outputs": [
    {
     "data": {
      "text/html": [
       "<div>\n",
       "<style scoped>\n",
       "    .dataframe tbody tr th:only-of-type {\n",
       "        vertical-align: middle;\n",
       "    }\n",
       "\n",
       "    .dataframe tbody tr th {\n",
       "        vertical-align: top;\n",
       "    }\n",
       "\n",
       "    .dataframe thead th {\n",
       "        text-align: right;\n",
       "    }\n",
       "</style>\n",
       "<table border=\"1\" class=\"dataframe\">\n",
       "  <thead>\n",
       "    <tr style=\"text-align: right;\">\n",
       "      <th></th>\n",
       "      <th>movil_agresor</th>\n",
       "      <th>TOTAL_MA</th>\n",
       "    </tr>\n",
       "  </thead>\n",
       "  <tbody>\n",
       "    <tr>\n",
       "      <th>0</th>\n",
       "      <td>A PIE</td>\n",
       "      <td>4122</td>\n",
       "    </tr>\n",
       "    <tr>\n",
       "      <th>1</th>\n",
       "      <td>PASAJERO MOTOCICLETA</td>\n",
       "      <td>618</td>\n",
       "    </tr>\n",
       "    <tr>\n",
       "      <th>2</th>\n",
       "      <td>CONDUCTOR MOTOCICLETA</td>\n",
       "      <td>107</td>\n",
       "    </tr>\n",
       "    <tr>\n",
       "      <th>3</th>\n",
       "      <td>PASAJERO VEHICULO</td>\n",
       "      <td>29</td>\n",
       "    </tr>\n",
       "    <tr>\n",
       "      <th>4</th>\n",
       "      <td>PASAJERO TAXI</td>\n",
       "      <td>19</td>\n",
       "    </tr>\n",
       "    <tr>\n",
       "      <th>5</th>\n",
       "      <td>CONDUCTOR VEHICULO</td>\n",
       "      <td>18</td>\n",
       "    </tr>\n",
       "    <tr>\n",
       "      <th>6</th>\n",
       "      <td>BICICLETA</td>\n",
       "      <td>16</td>\n",
       "    </tr>\n",
       "    <tr>\n",
       "      <th>7</th>\n",
       "      <td>PASAJERO BARCO</td>\n",
       "      <td>7</td>\n",
       "    </tr>\n",
       "    <tr>\n",
       "      <th>8</th>\n",
       "      <td>CONDUCTOR TAXI</td>\n",
       "      <td>7</td>\n",
       "    </tr>\n",
       "    <tr>\n",
       "      <th>9</th>\n",
       "      <td>PASAJERO BUS</td>\n",
       "      <td>3</td>\n",
       "    </tr>\n",
       "  </tbody>\n",
       "</table>\n",
       "</div>"
      ],
      "text/plain": [
       "           movil_agresor  TOTAL_MA\n",
       "0                  A PIE      4122\n",
       "1   PASAJERO MOTOCICLETA       618\n",
       "2  CONDUCTOR MOTOCICLETA       107\n",
       "3      PASAJERO VEHICULO        29\n",
       "4          PASAJERO TAXI        19\n",
       "5     CONDUCTOR VEHICULO        18\n",
       "6              BICICLETA        16\n",
       "7         PASAJERO BARCO         7\n",
       "8         CONDUCTOR TAXI         7\n",
       "9           PASAJERO BUS         3"
      ]
     },
     "execution_count": 17,
     "metadata": {},
     "output_type": "execute_result"
    }
   ],
   "source": [
    "# Móvil agresor\n",
    "sql = \"\"\"\n",
    "SELECT movil_agresor, COUNT(*) AS TOTAL_MA\n",
    "FROM `atomic-legacy-282703.tablahom.tabla_homicidios`\n",
    "WHERE (movil_agresor IS NOT NULL AND movil_agresor<>'-') AND (movil_victima IS NOT NULL AND movil_victima<>'-')\n",
    "GROUP BY 1\n",
    "ORDER BY 2 DESC\n",
    "\"\"\"\n",
    "\n",
    "consulta2 = client.query(sql).to_dataframe()\n",
    "consulta2"
   ]
  },
  {
   "cell_type": "markdown",
   "metadata": {},
   "source": [
    "#### Comentario: \n",
    "La mayoría de personas que cometen un homicidio andan a pie o en moto. Se puede observar que es poco usual tomar transporte público para cometer un homicidio."
   ]
  },
  {
   "cell_type": "code",
   "execution_count": 22,
   "metadata": {},
   "outputs": [
    {
     "data": {
      "text/html": [
       "<div>\n",
       "<style scoped>\n",
       "    .dataframe tbody tr th:only-of-type {\n",
       "        vertical-align: middle;\n",
       "    }\n",
       "\n",
       "    .dataframe tbody tr th {\n",
       "        vertical-align: top;\n",
       "    }\n",
       "\n",
       "    .dataframe thead th {\n",
       "        text-align: right;\n",
       "    }\n",
       "</style>\n",
       "<table border=\"1\" class=\"dataframe\">\n",
       "  <thead>\n",
       "    <tr style=\"text-align: right;\">\n",
       "      <th></th>\n",
       "      <th>profesion</th>\n",
       "      <th>Per</th>\n",
       "    </tr>\n",
       "  </thead>\n",
       "  <tbody>\n",
       "    <tr>\n",
       "      <th>0</th>\n",
       "      <td>-</td>\n",
       "      <td>97.442095</td>\n",
       "    </tr>\n",
       "    <tr>\n",
       "      <th>1</th>\n",
       "      <td>NO REPORTADA</td>\n",
       "      <td>0.946626</td>\n",
       "    </tr>\n",
       "    <tr>\n",
       "      <th>2</th>\n",
       "      <td>TECNICO PROFESIONAL EN SERVICIO DE POLICIA</td>\n",
       "      <td>0.483384</td>\n",
       "    </tr>\n",
       "    <tr>\n",
       "      <th>3</th>\n",
       "      <td>POLICIAS</td>\n",
       "      <td>0.261833</td>\n",
       "    </tr>\n",
       "    <tr>\n",
       "      <th>4</th>\n",
       "      <td>DERECHO</td>\n",
       "      <td>0.080564</td>\n",
       "    </tr>\n",
       "    <tr>\n",
       "      <th>5</th>\n",
       "      <td>LICENCIADO</td>\n",
       "      <td>0.080564</td>\n",
       "    </tr>\n",
       "    <tr>\n",
       "      <th>6</th>\n",
       "      <td>INGENIERO</td>\n",
       "      <td>0.080564</td>\n",
       "    </tr>\n",
       "    <tr>\n",
       "      <th>7</th>\n",
       "      <td>CONTADURIA PUBLICA</td>\n",
       "      <td>0.040282</td>\n",
       "    </tr>\n",
       "    <tr>\n",
       "      <th>8</th>\n",
       "      <td>TECNICO PROFESIONAL EN ADMINISTRACION  DE EMPR...</td>\n",
       "      <td>0.040282</td>\n",
       "    </tr>\n",
       "    <tr>\n",
       "      <th>9</th>\n",
       "      <td>ADMINISTRACION  DE EMPRESAS</td>\n",
       "      <td>0.040282</td>\n",
       "    </tr>\n",
       "  </tbody>\n",
       "</table>\n",
       "</div>"
      ],
      "text/plain": [
       "                                           profesion        Per\n",
       "0                                                  -  97.442095\n",
       "1                                       NO REPORTADA   0.946626\n",
       "2         TECNICO PROFESIONAL EN SERVICIO DE POLICIA   0.483384\n",
       "3                                           POLICIAS   0.261833\n",
       "4                                            DERECHO   0.080564\n",
       "5                                         LICENCIADO   0.080564\n",
       "6                                          INGENIERO   0.080564\n",
       "7                                 CONTADURIA PUBLICA   0.040282\n",
       "8  TECNICO PROFESIONAL EN ADMINISTRACION  DE EMPR...   0.040282\n",
       "9                        ADMINISTRACION  DE EMPRESAS   0.040282"
      ]
     },
     "execution_count": 22,
     "metadata": {},
     "output_type": "execute_result"
    }
   ],
   "source": [
    "# Profesión\n",
    "sql = \"\"\"\n",
    "SELECT profesion, (Count(profesion)* 100 / (Select Count(*) FROM  `atomic-legacy-282703.tablahom.tabla_homicidios`)) as Per\n",
    "from  `atomic-legacy-282703.tablahom.tabla_homicidios`\n",
    "group by 1  \n",
    "order by 2 DESC limit 10\n",
    "\"\"\"\n",
    "\n",
    "consulta3 = client.query(sql).to_dataframe()\n",
    "consulta3\n"
   ]
  },
  {
   "cell_type": "markdown",
   "metadata": {},
   "source": [
    "#### Comentario: \n",
    "Respecto a la variable profesion, se observa que un aprox 98% no tiene profesión y/o no reporta. La variable podría considerarse como flag o excluirse dado que es similar a una constante. \n",
    "\n",
    "Por otro lado, se observa que se ha utilizado (\"-\" y \"NO REPORTADA\"), Debe hacerse una transformación para que en las variables esté adecuadamente identificados los valores especiales y valores faltantes. "
   ]
  },
  {
   "cell_type": "code",
   "execution_count": 23,
   "metadata": {},
   "outputs": [
    {
     "data": {
      "text/html": [
       "<div>\n",
       "<style scoped>\n",
       "    .dataframe tbody tr th:only-of-type {\n",
       "        vertical-align: middle;\n",
       "    }\n",
       "\n",
       "    .dataframe tbody tr th {\n",
       "        vertical-align: top;\n",
       "    }\n",
       "\n",
       "    .dataframe thead th {\n",
       "        text-align: right;\n",
       "    }\n",
       "</style>\n",
       "<table border=\"1\" class=\"dataframe\">\n",
       "  <thead>\n",
       "    <tr style=\"text-align: right;\">\n",
       "      <th></th>\n",
       "      <th>MINIMO</th>\n",
       "      <th>MAXIMO</th>\n",
       "      <th>PROMEDIO</th>\n",
       "    </tr>\n",
       "  </thead>\n",
       "  <tbody>\n",
       "    <tr>\n",
       "      <th>0</th>\n",
       "      <td>1</td>\n",
       "      <td>100</td>\n",
       "      <td>32.758711</td>\n",
       "    </tr>\n",
       "  </tbody>\n",
       "</table>\n",
       "</div>"
      ],
      "text/plain": [
       "   MINIMO  MAXIMO   PROMEDIO\n",
       "0       1     100  32.758711"
      ]
     },
     "execution_count": 23,
     "metadata": {},
     "output_type": "execute_result"
    }
   ],
   "source": [
    "# Edad\n",
    "sql = \"\"\"\n",
    "SELECT MIN(EDAD) AS MINIMO, MAX(EDAD) AS MAXIMO, AVG(EDAD) AS PROMEDIO\n",
    "FROM `atomic-legacy-282703.tablahom.tabla_homicidios`\n",
    "\"\"\"\n",
    "\n",
    "consulta4 = client.query(sql).to_dataframe()\n",
    "consulta4"
   ]
  },
  {
   "cell_type": "markdown",
   "metadata": {},
   "source": [
    "#### Comentario: \n",
    "El promedio de las victimas de homicidios es 32.75 años de edad. El rando de edad de las victimas es de cero a cien."
   ]
  },
  {
   "cell_type": "code",
   "execution_count": 25,
   "metadata": {
    "scrolled": true
   },
   "outputs": [
    {
     "data": {
      "text/html": [
       "<div>\n",
       "<style scoped>\n",
       "    .dataframe tbody tr th:only-of-type {\n",
       "        vertical-align: middle;\n",
       "    }\n",
       "\n",
       "    .dataframe tbody tr th {\n",
       "        vertical-align: top;\n",
       "    }\n",
       "\n",
       "    .dataframe thead th {\n",
       "        text-align: right;\n",
       "    }\n",
       "</style>\n",
       "<table border=\"1\" class=\"dataframe\">\n",
       "  <thead>\n",
       "    <tr style=\"text-align: right;\">\n",
       "      <th></th>\n",
       "      <th>SEXO</th>\n",
       "      <th>TOTAL</th>\n",
       "      <th>Per</th>\n",
       "    </tr>\n",
       "  </thead>\n",
       "  <tbody>\n",
       "    <tr>\n",
       "      <th>0</th>\n",
       "      <td>FEMENINO</td>\n",
       "      <td>410</td>\n",
       "      <td>8.257805</td>\n",
       "    </tr>\n",
       "    <tr>\n",
       "      <th>1</th>\n",
       "      <td>MASCULINO</td>\n",
       "      <td>4555</td>\n",
       "      <td>91.742195</td>\n",
       "    </tr>\n",
       "  </tbody>\n",
       "</table>\n",
       "</div>"
      ],
      "text/plain": [
       "        SEXO  TOTAL        Per\n",
       "0   FEMENINO    410   8.257805\n",
       "1  MASCULINO   4555  91.742195"
      ]
     },
     "execution_count": 25,
     "metadata": {},
     "output_type": "execute_result"
    }
   ],
   "source": [
    "# Género\n",
    "sql = \"\"\"\n",
    "SELECT DISTINCT SEXO, \n",
    "COUNT(*) as TOTAL,\n",
    "(Count(SEXO)* 100 / (Select Count(*) FROM  `atomic-legacy-282703.tablahom.tabla_homicidios`)) as Per\n",
    "FROM `atomic-legacy-282703.tablahom.tabla_ref`\n",
    "GROUP BY 1\n",
    "order by 3\n",
    "\"\"\"\n",
    "consulta5 = client.query(sql).to_dataframe()\n",
    "consulta5"
   ]
  },
  {
   "cell_type": "markdown",
   "metadata": {},
   "source": [
    "#### Comentario: \n",
    "Del total de victimas de homicidios, el 91.7% son personas de género masculino y el 8.25% corresponden a personas de género femenino. "
   ]
  },
  {
   "cell_type": "code",
   "execution_count": null,
   "metadata": {},
   "outputs": [],
   "source": []
  },
  {
   "cell_type": "code",
   "execution_count": null,
   "metadata": {},
   "outputs": [],
   "source": []
  },
  {
   "cell_type": "code",
   "execution_count": null,
   "metadata": {},
   "outputs": [],
   "source": []
  },
  {
   "cell_type": "code",
   "execution_count": null,
   "metadata": {},
   "outputs": [],
   "source": []
  }
 ],
 "metadata": {
  "kernelspec": {
   "display_name": "Python 3",
   "language": "python",
   "name": "python3"
  },
  "language_info": {
   "codemirror_mode": {
    "name": "ipython",
    "version": 3
   },
   "file_extension": ".py",
   "mimetype": "text/x-python",
   "name": "python",
   "nbconvert_exporter": "python",
   "pygments_lexer": "ipython3",
   "version": "3.7.6"
  }
 },
 "nbformat": 4,
 "nbformat_minor": 4
}
