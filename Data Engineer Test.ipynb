{
 "cells": [
  {
   "cell_type": "code",
   "execution_count": 1,
   "metadata": {},
   "outputs": [
    {
     "name": "stdout",
     "output_type": "stream",
     "text": [
      "Requirement already up-to-date: google-cloud-bigquery[pandas] in c:\\users\\lenovo\\anaconda3\\lib\\site-packages (1.25.0)\n",
      "Requirement already satisfied, skipping upgrade: google-api-core<2.0dev,>=1.15.0 in c:\\users\\lenovo\\anaconda3\\lib\\site-packages (from google-cloud-bigquery[pandas]) (1.21.0)\n",
      "Requirement already satisfied, skipping upgrade: six<2.0.0dev,>=1.13.0 in c:\\users\\lenovo\\anaconda3\\lib\\site-packages (from google-cloud-bigquery[pandas]) (1.14.0)\n",
      "Requirement already satisfied, skipping upgrade: google-resumable-media<0.6dev,>=0.5.0 in c:\\users\\lenovo\\anaconda3\\lib\\site-packages (from google-cloud-bigquery[pandas]) (0.5.1)\n",
      "Requirement already satisfied, skipping upgrade: protobuf>=3.6.0 in c:\\users\\lenovo\\anaconda3\\lib\\site-packages (from google-cloud-bigquery[pandas]) (3.12.2)\n",
      "Requirement already satisfied, skipping upgrade: google-auth<2.0dev,>=1.9.0 in c:\\users\\lenovo\\anaconda3\\lib\\site-packages (from google-cloud-bigquery[pandas]) (1.18.0)\n",
      "Requirement already satisfied, skipping upgrade: google-cloud-core<2.0dev,>=1.1.0 in c:\\users\\lenovo\\anaconda3\\lib\\site-packages (from google-cloud-bigquery[pandas]) (1.3.0)\n",
      "Requirement already satisfied, skipping upgrade: pandas>=0.17.1; extra == \"pandas\" in c:\\users\\lenovo\\anaconda3\\lib\\site-packages (from google-cloud-bigquery[pandas]) (1.0.1)\n",
      "Requirement already satisfied, skipping upgrade: setuptools>=34.0.0 in c:\\users\\lenovo\\anaconda3\\lib\\site-packages (from google-api-core<2.0dev,>=1.15.0->google-cloud-bigquery[pandas]) (45.2.0.post20200210)\n",
      "Requirement already satisfied, skipping upgrade: pytz in c:\\users\\lenovo\\anaconda3\\lib\\site-packages (from google-api-core<2.0dev,>=1.15.0->google-cloud-bigquery[pandas]) (2019.3)\n",
      "Requirement already satisfied, skipping upgrade: requests<3.0.0dev,>=2.18.0 in c:\\users\\lenovo\\anaconda3\\lib\\site-packages (from google-api-core<2.0dev,>=1.15.0->google-cloud-bigquery[pandas]) (2.22.0)\n",
      "Requirement already satisfied, skipping upgrade: googleapis-common-protos<2.0dev,>=1.6.0 in c:\\users\\lenovo\\anaconda3\\lib\\site-packages (from google-api-core<2.0dev,>=1.15.0->google-cloud-bigquery[pandas]) (1.52.0)\n",
      "Requirement already satisfied, skipping upgrade: pyasn1-modules>=0.2.1 in c:\\users\\lenovo\\anaconda3\\lib\\site-packages (from google-auth<2.0dev,>=1.9.0->google-cloud-bigquery[pandas]) (0.2.8)\n",
      "Requirement already satisfied, skipping upgrade: cachetools<5.0,>=2.0.0 in c:\\users\\lenovo\\anaconda3\\lib\\site-packages (from google-auth<2.0dev,>=1.9.0->google-cloud-bigquery[pandas]) (4.1.1)\n",
      "Requirement already satisfied, skipping upgrade: rsa<5,>=3.1.4; python_version >= \"3\" in c:\\users\\lenovo\\anaconda3\\lib\\site-packages (from google-auth<2.0dev,>=1.9.0->google-cloud-bigquery[pandas]) (4.6)\n",
      "Requirement already satisfied, skipping upgrade: numpy>=1.13.3 in c:\\users\\lenovo\\anaconda3\\lib\\site-packages (from pandas>=0.17.1; extra == \"pandas\"->google-cloud-bigquery[pandas]) (1.18.1)\n",
      "Requirement already satisfied, skipping upgrade: python-dateutil>=2.6.1 in c:\\users\\lenovo\\anaconda3\\lib\\site-packages (from pandas>=0.17.1; extra == \"pandas\"->google-cloud-bigquery[pandas]) (2.8.1)\n",
      "Requirement already satisfied, skipping upgrade: idna<2.9,>=2.5 in c:\\users\\lenovo\\anaconda3\\lib\\site-packages (from requests<3.0.0dev,>=2.18.0->google-api-core<2.0dev,>=1.15.0->google-cloud-bigquery[pandas]) (2.8)\n",
      "Requirement already satisfied, skipping upgrade: urllib3!=1.25.0,!=1.25.1,<1.26,>=1.21.1 in c:\\users\\lenovo\\anaconda3\\lib\\site-packages (from requests<3.0.0dev,>=2.18.0->google-api-core<2.0dev,>=1.15.0->google-cloud-bigquery[pandas]) (1.25.8)\n",
      "Requirement already satisfied, skipping upgrade: chardet<3.1.0,>=3.0.2 in c:\\users\\lenovo\\anaconda3\\lib\\site-packages (from requests<3.0.0dev,>=2.18.0->google-api-core<2.0dev,>=1.15.0->google-cloud-bigquery[pandas]) (3.0.4)\n",
      "Requirement already satisfied, skipping upgrade: certifi>=2017.4.17 in c:\\users\\lenovo\\anaconda3\\lib\\site-packages (from requests<3.0.0dev,>=2.18.0->google-api-core<2.0dev,>=1.15.0->google-cloud-bigquery[pandas]) (2019.11.28)\n",
      "Requirement already satisfied, skipping upgrade: pyasn1<0.5.0,>=0.4.6 in c:\\users\\lenovo\\anaconda3\\lib\\site-packages (from pyasn1-modules>=0.2.1->google-auth<2.0dev,>=1.9.0->google-cloud-bigquery[pandas]) (0.4.8)\n",
      "Note: you may need to restart the kernel to use updated packages.\n"
     ]
    }
   ],
   "source": [
    "pip install --upgrade google-cloud-bigquery[pandas]"
   ]
  },
  {
   "cell_type": "code",
   "execution_count": 2,
   "metadata": {},
   "outputs": [
    {
     "data": {
      "text/plain": [
       "True"
      ]
     },
     "execution_count": 2,
     "metadata": {},
     "output_type": "execute_result"
    }
   ],
   "source": [
    "# Cargar librerias\n",
    "import pandas as pd\n",
    "import os\n",
    "from google.cloud import bigquery\n",
    "from google.oauth2 import service_account\n",
    "from dotenv import load_dotenv\n",
    "from google.cloud import bigquery\n",
    "load_dotenv()"
   ]
  },
  {
   "cell_type": "code",
   "execution_count": 3,
   "metadata": {},
   "outputs": [],
   "source": [
    "os.environ[\"GOOGLE_APPLICATION_CREDENTIALS\"]=\"./clave/Test-42df6148e13f.json\""
   ]
  },
  {
   "cell_type": "code",
   "execution_count": 4,
   "metadata": {},
   "outputs": [
    {
     "name": "stdout",
     "output_type": "stream",
     "text": [
      "Loaded 4966 rows into tablahom:tabla_homicidios.\n"
     ]
    }
   ],
   "source": [
    "client = bigquery.Client()\n",
    "filename = './Datos/Homicidios_2018.csv'\n",
    "dataset_id = 'tablahom'\n",
    "table_id = 'tabla_homicidios'\n",
    "\n",
    "dataset_ref = client.dataset(dataset_id)\n",
    "table_ref = dataset_ref.table(table_id)\n",
    "job_config = bigquery.LoadJobConfig()\n",
    "job_config.schema = [\n",
    "    bigquery.SchemaField(\"fecha\", \"STRING\"),\n",
    "    bigquery.SchemaField(\"departamento\", \"STRING\"),\n",
    "    bigquery.SchemaField(\"municipio\", \"STRING\"),\n",
    "    bigquery.SchemaField(\"dia\", \"STRING\"),\n",
    "    bigquery.SchemaField(\"hora\", \"STRING\"),\n",
    "    bigquery.SchemaField(\"barrio\", \"STRING\"),\n",
    "    bigquery.SchemaField(\"zona\", \"STRING\"),\n",
    "    bigquery.SchemaField(\"clase_de_sitio\", \"STRING\"),\n",
    "    bigquery.SchemaField(\"arma_empleada\", \"STRING\"),\n",
    "    bigquery.SchemaField(\"movil_agresor\", \"STRING\"),\n",
    "    bigquery.SchemaField(\"movil_victima\", \"STRING\"),\n",
    "    bigquery.SchemaField(\"edad\", \"INT64\"),\n",
    "    bigquery.SchemaField(\"sexo\", \"STRING\"),\n",
    "    bigquery.SchemaField(\"estado_civil\", \"STRING\"),\n",
    "    bigquery.SchemaField(\"pais_nacimiento\", \"STRING\"),\n",
    "    bigquery.SchemaField(\"clase_empleado\", \"STRING\"),\n",
    "    bigquery.SchemaField(\"profesion\", \"STRING\"),\n",
    "    bigquery.SchemaField(\"escolaridad\", \"STRING\"),\n",
    "    bigquery.SchemaField(\"codigo_dane\", \"INT64\"),\n",
    "    bigquery.SchemaField(\"cantidad\", \"INT64\"),\n",
    "]\n",
    "job_config.source_format = bigquery.SourceFormat.CSV\n",
    "job_config.skip_leading_rows = 1\n",
    "with open(filename, \"rb\") as source_file:\n",
    "    job = client.load_table_from_file(source_file, table_ref,\n",
    "        location=\"US\", job_config=job_config)\n",
    "\n",
    "job.result()  # Waits for table load to complete.\n",
    "\n",
    "print(\"Loaded {} rows into {}:{}.\".format(job.output_rows, dataset_id, table_id))"
   ]
  }
 ],
 "metadata": {
  "kernelspec": {
   "display_name": "Python 3",
   "language": "python",
   "name": "python3"
  },
  "language_info": {
   "codemirror_mode": {
    "name": "ipython",
    "version": 3
   },
   "file_extension": ".py",
   "mimetype": "text/x-python",
   "name": "python",
   "nbconvert_exporter": "python",
   "pygments_lexer": "ipython3",
   "version": "3.7.6"
  }
 },
 "nbformat": 4,
 "nbformat_minor": 4
}
